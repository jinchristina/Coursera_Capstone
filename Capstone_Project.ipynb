{
    "cells": [
        {
            "cell_type": "markdown",
            "metadata": {},
            "source": "# Capstone Project for IBM Data Science"
        },
        {
            "cell_type": "code",
            "execution_count": 1,
            "metadata": {},
            "outputs": [
                {
                    "name": "stdout",
                    "output_type": "stream",
                    "text": "Hello Capstone Project Course!\n"
                }
            ],
            "source": "import pandas as pd\nimport numpy as np\nprint(\"Hello Capstone Project Course!\")"
        },
        {
            "cell_type": "markdown",
            "metadata": {},
            "source": "## Introduction"
        },
        {
            "cell_type": "markdown",
            "metadata": {},
            "source": "This capstone project aims to find the key features of popular songs and therefore be able to predict the popularity of a song based on its features. Given a dataset of about 19000 songs from Spotify, we are looking at each song's features and seeing how that plays an effect on its popularity score. This information will be helpful to new artists looking to gain fame and also songwriters to see what features are desireable in popular songs. "
        },
        {
            "cell_type": "markdown",
            "metadata": {},
            "source": "## Data"
        },
        {
            "cell_type": "markdown",
            "metadata": {},
            "source": "The song dataset is provided by Kaggle. This target variable is popularity (song_popularity) which is a score from 0 to 100. This dataset with its variables was taken from Spotify. There a total of 15 variables in the dataset, of which 11 (bolded) will be used to determine the popularity of the song. \n<ul>\n    <li> song_name: The name of the song.</li>\n    <li> song_popularity: Song ratings of spotify audience.</li>\n    <li> song_duration_ms: The duration of the track in milliseconds.</li>\n    <li> <strong> acousticness</strong>: A confidence measure from 0.0 to 1.0 of whether the track is acoustic. 1.0 represents high confidence the track is acoustic.</li>\n    <li> <strong> danceability</strong>: Danceability describes how suitable a track is for dancing. A value of 0.0 is least danceable and 1.0 is most danceable.</li>\n    <li> <strong> energy</strong>: A perceptual measure of intensity and activity on a scale from 0.0 to 1.0. </li>\n    <li> <strong> instrumentalness</strong>: A confidence measure from 0.0 to 1.0 of whether the track is instrumental. 1.0 represents high confidence the track is instrumental.</li>\n    <li> <strong> key</strong>: The estimated overall key of the track. E.g. 0 = C, 1 = C\u266f/D\u266d, 2 = D, and so on. If no key was detected, the value is -1.</li>\n    <li> <strong> liveness</strong>: Detects the presence of an audience in the recording. Higher liveness values represent an increased probability that the track was performed live.</li>\n    <li> <strong> loudness</strong>: The overall loudness of a track in decibels (dB). Values typical range between -60 and 0 db.</li>\n    <li> <strong> audio_mode</strong>: Mode indicates the modality (major or minor) of a track. Major is represented by 1 and minor is 0.</li>\n    <li> speechiness: Speechiness detects the presence of spoken words in a track. The more exclusively speech-like the recording (e.g. talk show, audio book, poetry), the closer to 1.0 the attribute value. Values below 0.33 most likely represent music and other non-speech-like tracks.</li>\n    <li> <strong> tempo</strong>: The overall estimated tempo of a track in beats per minute (BPM).</li>\n    <li>time_signature: An estimated overall time signature of a track. The time signature (meter) is a notational convention to specify how many beats are in each bar (or measure).</li>\n    <li> <strong> audio_valence</strong>: A measure from 0.0 to 1.0 describing the musical positiveness conveyed by a track. Tracks with high valence sound more positive, while tracks with low valence sound more negative .</li>\n</ul>"
        },
        {
            "cell_type": "markdown",
            "metadata": {},
            "source": "### Data Cleanup"
        },
        {
            "cell_type": "markdown",
            "metadata": {},
            "source": "As mentioned above, not all variables given in the dataset were used for creating the model. Song_name and song_duration_ms were dropped because they are descriptive variables that do not add value to the model. Songs with time_signature of value 4 were only used and there rest were dropped because 95% of songs were in 4 beats per measure and it is rare to find songs in other beat. Songs with speechiness values greater than or equal to 0.34 were also dropped as values below 0.33 most likely represent music and other non-speech-like tracks. This leaves us with 16,958 rows of data to use."
        },
        {
            "cell_type": "markdown",
            "metadata": {},
            "source": "### Methodology"
        },
        {
            "cell_type": "markdown",
            "metadata": {},
            "source": ""
        },
        {
            "cell_type": "markdown",
            "metadata": {},
            "source": "### Results"
        },
        {
            "cell_type": "markdown",
            "metadata": {},
            "source": ""
        },
        {
            "cell_type": "markdown",
            "metadata": {},
            "source": "### Discussion"
        },
        {
            "cell_type": "markdown",
            "metadata": {},
            "source": ""
        },
        {
            "cell_type": "markdown",
            "metadata": {},
            "source": "### Conclusion"
        },
        {
            "cell_type": "markdown",
            "metadata": {},
            "source": ""
        }
    ],
    "metadata": {
        "kernelspec": {
            "display_name": "Python 3.6",
            "language": "python",
            "name": "python3"
        },
        "language_info": {
            "codemirror_mode": {
                "name": "ipython",
                "version": 3
            },
            "file_extension": ".py",
            "mimetype": "text/x-python",
            "name": "python",
            "nbconvert_exporter": "python",
            "pygments_lexer": "ipython3",
            "version": "3.6.9"
        }
    },
    "nbformat": 4,
    "nbformat_minor": 4
}