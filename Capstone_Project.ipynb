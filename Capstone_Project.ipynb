{
    "cells": [
        {
            "cell_type": "markdown",
            "metadata": {},
            "source": "# Capstone Project for IBM Data Science"
        },
        {
            "cell_type": "code",
            "execution_count": 1,
            "metadata": {},
            "outputs": [
                {
                    "name": "stdout",
                    "output_type": "stream",
                    "text": "Hello Capstone Project Course!\n"
                }
            ],
            "source": "import pandas as pd\nimport numpy as np\nprint(\"Hello Capstone Project Course!\")"
        },
        {
            "cell_type": "markdown",
            "metadata": {},
            "source": "### Introduction"
        },
        {
            "cell_type": "markdown",
            "metadata": {},
            "source": "This capstone project aims to find the severity of a traffic accident using the characteristics given by the Collisions dataset provided by Seattle Police Department  and recorded by Traffic Records. Finding the significant characteristics can help the Seattle Department of Transportation (SDOT) determine what are some main causes or correlations that occur with severe traffic accidents. It can help the Department to determine preventative measures to lower the severity of the accident or even lower the number of accidents that occur. "
        },
        {
            "cell_type": "markdown",
            "metadata": {},
            "source": "### Data"
        },
        {
            "cell_type": "markdown",
            "metadata": {},
            "source": "The collisions dataset provided by the SDOT includes both textual and numerical data. For the purpose of this project, all textual data will be convert to numberical data if needed and omitted if not. The variable we are trying to identify is the severity code (SEVERITYCODE). This variable is on a scale of 0 Unknown, 1 Property Damage, 2 Injury, 2b Serious Injury, 3 Fatility. "
        },
        {
            "cell_type": "code",
            "execution_count": null,
            "metadata": {},
            "outputs": [],
            "source": ""
        }
    ],
    "metadata": {
        "kernelspec": {
            "display_name": "Python 3.6",
            "language": "python",
            "name": "python3"
        },
        "language_info": {
            "codemirror_mode": {
                "name": "ipython",
                "version": 3
            },
            "file_extension": ".py",
            "mimetype": "text/x-python",
            "name": "python",
            "nbconvert_exporter": "python",
            "pygments_lexer": "ipython3",
            "version": "3.6.9"
        }
    },
    "nbformat": 4,
    "nbformat_minor": 4
}